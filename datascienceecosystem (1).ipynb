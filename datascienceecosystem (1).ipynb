{
 "cells": [
  {
   "cell_type": "markdown",
   "id": "0ef8b7af",
   "metadata": {
    "papermill": {
     "duration": 0.004308,
     "end_time": "2023-06-14T08:51:13.355522",
     "exception": false,
     "start_time": "2023-06-14T08:51:13.351214",
     "status": "completed"
    },
    "tags": []
   },
   "source": [
    "# Data Science Tools and Ecosystem"
   ]
  },
  {
   "cell_type": "markdown",
   "id": "9b319f2a",
   "metadata": {
    "papermill": {
     "duration": 0.003067,
     "end_time": "2023-06-14T08:51:13.362043",
     "exception": false,
     "start_time": "2023-06-14T08:51:13.358976",
     "status": "completed"
    },
    "tags": []
   },
   "source": [
    "In this notebook, Data Science Tools and Ecosystem are summarized."
   ]
  },
  {
   "cell_type": "markdown",
   "id": "b0bade21",
   "metadata": {
    "papermill": {
     "duration": 0.002924,
     "end_time": "2023-06-14T08:51:13.368055",
     "exception": false,
     "start_time": "2023-06-14T08:51:13.365131",
     "status": "completed"
    },
    "tags": []
   },
   "source": [
    "**Objectives:**\n",
    "* List popular languages for Data Science\n",
    "* List data science libraries\n",
    "* List Data Science Tools\n",
    "* Convert minutes to hours\n",
    "* Provide examples of arithmetic expressions\n",
    "\n",
    "\n"
   ]
  },
  {
   "cell_type": "markdown",
   "id": "a3529600",
   "metadata": {
    "papermill": {
     "duration": 0.002979,
     "end_time": "2023-06-14T08:51:13.374066",
     "exception": false,
     "start_time": "2023-06-14T08:51:13.371087",
     "status": "completed"
    },
    "tags": []
   },
   "source": [
    "Some of the popular languages that Data Scientists use are:\n",
    "1. Python\n",
    "2. R\n",
    "3. SQL\n",
    "4. Java\n",
    "\n",
    "Some of the commonly used libraries used by Data Scientists include:\n",
    "1. Pandas\n",
    "2. NumPy\n",
    "3. Matplotlib\n",
    "4. Scikit-learn\n",
    "\n",
    "\n",
    "\n",
    "\n",
    "\n",
    "\n",
    "\n",
    "\n",
    "\n"
   ]
  },
  {
   "cell_type": "markdown",
   "id": "c5d6bacf",
   "metadata": {
    "papermill": {
     "duration": 0.002999,
     "end_time": "2023-06-14T08:51:13.380098",
     "exception": false,
     "start_time": "2023-06-14T08:51:13.377099",
     "status": "completed"
    },
    "tags": []
   },
   "source": [
    "| Data Science Tools |\n",
    "| :-: |\n",
    "| Jupiter |\n",
    "| RStudio |\n",
    "| Apache Zeppelin |"
   ]
  },
  {
   "cell_type": "markdown",
   "id": "2a4e4d1f",
   "metadata": {
    "papermill": {
     "duration": 0.002983,
     "end_time": "2023-06-14T08:51:13.386129",
     "exception": false,
     "start_time": "2023-06-14T08:51:13.383146",
     "status": "completed"
    },
    "tags": []
   },
   "source": [
    "### Below are a few examples of evaluating arithmetic expressions in Python"
   ]
  },
  {
   "cell_type": "code",
   "execution_count": 1,
   "id": "0147125c",
   "metadata": {
    "execution": {
     "iopub.execute_input": "2023-06-14T08:51:13.397760Z",
     "iopub.status.busy": "2023-06-14T08:51:13.394966Z",
     "iopub.status.idle": "2023-06-14T08:51:13.549149Z",
     "shell.execute_reply": "2023-06-14T08:51:13.545520Z"
    },
    "papermill": {
     "duration": 0.163494,
     "end_time": "2023-06-14T08:51:13.552640",
     "exception": false,
     "start_time": "2023-06-14T08:51:13.389146",
     "status": "completed"
    },
    "tags": []
   },
   "outputs": [
    {
     "data": {
      "text/html": [
       "17"
      ],
      "text/latex": [
       "17"
      ],
      "text/markdown": [
       "17"
      ],
      "text/plain": [
       "[1] 17"
      ]
     },
     "metadata": {},
     "output_type": "display_data"
    }
   ],
   "source": [
    "# This a simple arithmetic expression to mutiply then add integers\n",
    "(3*4)+5"
   ]
  },
  {
   "cell_type": "code",
   "execution_count": 2,
   "id": "9724ce40",
   "metadata": {
    "execution": {
     "iopub.execute_input": "2023-06-14T08:51:13.604143Z",
     "iopub.status.busy": "2023-06-14T08:51:13.562120Z",
     "iopub.status.idle": "2023-06-14T08:51:13.622134Z",
     "shell.execute_reply": "2023-06-14T08:51:13.620213Z"
    },
    "papermill": {
     "duration": 0.068795,
     "end_time": "2023-06-14T08:51:13.625082",
     "exception": false,
     "start_time": "2023-06-14T08:51:13.556287",
     "status": "completed"
    },
    "tags": []
   },
   "outputs": [
    {
     "data": {
      "text/html": [
       "3.33333333333333"
      ],
      "text/latex": [
       "3.33333333333333"
      ],
      "text/markdown": [
       "3.33333333333333"
      ],
      "text/plain": [
       "[1] 3.333333"
      ]
     },
     "metadata": {},
     "output_type": "display_data"
    }
   ],
   "source": [
    "# This will convert 200 minutes to hours by diving by 60\n",
    "200/60 "
   ]
  },
  {
   "cell_type": "markdown",
   "id": "369f3a51",
   "metadata": {
    "papermill": {
     "duration": 0.003451,
     "end_time": "2023-06-14T08:51:13.632213",
     "exception": false,
     "start_time": "2023-06-14T08:51:13.628762",
     "status": "completed"
    },
    "tags": []
   },
   "source": [
    "## Author\n",
    "sta1684"
   ]
  }
 ],
 "metadata": {
  "kernelspec": {
   "display_name": "R",
   "language": "R",
   "name": "ir"
  },
  "language_info": {
   "codemirror_mode": "r",
   "file_extension": ".r",
   "mimetype": "text/x-r-source",
   "name": "R",
   "pygments_lexer": "r",
   "version": "4.0.5"
  },
  "papermill": {
   "default_parameters": {},
   "duration": 4.232153,
   "end_time": "2023-06-14T08:51:13.762129",
   "environment_variables": {},
   "exception": null,
   "input_path": "__notebook__.ipynb",
   "output_path": "__notebook__.ipynb",
   "parameters": {},
   "start_time": "2023-06-14T08:51:09.529976",
   "version": "2.4.0"
  }
 },
 "nbformat": 4,
 "nbformat_minor": 5
}
